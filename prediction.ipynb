{
  "nbformat": 4,
  "nbformat_minor": 0,
  "metadata": {
    "colab": {
      "provenance": [],
      "toc_visible": true,
      "authorship_tag": "ABX9TyNEyqZA66+oP2wW521bjdh3",
      "include_colab_link": true
    },
    "kernelspec": {
      "name": "python3",
      "display_name": "Python 3"
    },
    "language_info": {
      "name": "python"
    }
  },
  "cells": [
    {
      "cell_type": "markdown",
      "metadata": {
        "id": "view-in-github",
        "colab_type": "text"
      },
      "source": [
        "<a href=\"https://colab.research.google.com/github/amalqahtani/stress_prediction/blob/main/prediction.ipynb\" target=\"_parent\"><img src=\"https://colab.research.google.com/assets/colab-badge.svg\" alt=\"Open In Colab\"/></a>"
      ]
    },
    {
      "cell_type": "code",
      "execution_count": null,
      "metadata": {
        "id": "axnhKnC9EByE"
      },
      "outputs": [],
      "source": [
        "import pandas as pd\n"
      ]
    },
    {
      "cell_type": "code",
      "source": [
        "df_test=pd.read_csv('/content/df_test.csv',encoding='utf-8', index_col=False)\n",
        "df_test=df_test.drop(['tweet_id'], axis=1)\n",
        "df_test"
      ],
      "metadata": {
        "id": "JAZjdzr2EEfb"
      },
      "execution_count": null,
      "outputs": []
    },
    {
      "cell_type": "code",
      "source": [
        "from transformers import TextClassificationPipeline\n",
        "\n",
        "#model = AutoModelForSequenceClassification.from_pretrained(\"Amalq/stress-roberta-large\", num_labels=2)\n",
        "#tokenizer = AutoTokenizer.from_pretrained(\"Amalq/stress-roberta-large\")\n",
        "pipe = TextClassificationPipeline(model=model, tokenizer=tokenizer, return_all_scores=False)\n",
        "\n",
        "\n",
        "\n",
        "# outputs a list of dicts like [[{'label': 'NEGATIVE', 'score': 0.0001223755971295759},  {'label': 'POSITIVE', 'score': 0.9998776316642761}]]\n",
        "#pipe(\"I genuinely cannot wait to be done with college. I’m constantly stressed during the semester but I know it’ll all be worth it.\")\n"
      ],
      "metadata": {
        "id": "5KTdP32GEFaU"
      },
      "execution_count": null,
      "outputs": []
    },
    {
      "cell_type": "code",
      "source": [
        "test = df_test.text.to_list()\n"
      ],
      "metadata": {
        "id": "tgQ9ghBlEOzp"
      },
      "execution_count": null,
      "outputs": []
    },
    {
      "cell_type": "code",
      "source": [
        "results = pipe(test)\n"
      ],
      "metadata": {
        "id": "ngF08k67EP7a"
      },
      "execution_count": null,
      "outputs": []
    },
    {
      "cell_type": "code",
      "source": [
        "results"
      ],
      "metadata": {
        "id": "b1RJaMzAESdV"
      },
      "execution_count": null,
      "outputs": []
    },
    {
      "cell_type": "code",
      "source": [
        "with open('distilroberta_test_prediction_oct_3.txt', 'w') as f:\n",
        "    for line in results:\n",
        "        f.write(f\"{line}\\n\")"
      ],
      "metadata": {
        "id": "xoT27N17ET_1"
      },
      "execution_count": null,
      "outputs": []
    },
    {
      "cell_type": "code",
      "source": [
        "from google.colab import files\n",
        "files.download('distilroberta_test_prediction_oct_3.txt') "
      ],
      "metadata": {
        "id": "f0nlnyEbEUfP"
      },
      "execution_count": null,
      "outputs": []
    }
  ]
}